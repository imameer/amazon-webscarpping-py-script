{
 "cells": [
  {
   "cell_type": "code",
   "execution_count": 1,
   "id": "74616033",
   "metadata": {},
   "outputs": [],
   "source": [
    "from bs4 import BeautifulSoup\n",
    "import requests\n",
    "import pandas as pd\n",
    "import numpy as np"
   ]
  },
  {
   "cell_type": "code",
   "execution_count": 5,
   "id": "d5e8dac5",
   "metadata": {},
   "outputs": [],
   "source": [
    "URL = 'https://www.amazon.in/s?k=gaming+joystick+for+pc&crid=1LN9XCR2WU6NN&sprefix=gaming+joy%2Caps%2C306&ref=nb_sb_ss_ts-doa-p_1_10'"
   ]
  },
  {
   "cell_type": "code",
   "execution_count": 8,
   "id": "9df5e41f",
   "metadata": {},
   "outputs": [],
   "source": [
    "#Headers for request \n",
    "HEADERS = ({'User-Agent' : 'Mozilla/5.0 (Windows NT 10.0; Win64; x64) AppleWebKit/537.36 (KHTML, like Gecko) Chrome/113.0.0.0 Safari/537.36 Edg/113.0.1774.42', 'Accept-Language' : 'en-US, en;q=0.5'})"
   ]
  },
  {
   "cell_type": "code",
   "execution_count": 9,
   "id": "2c406156",
   "metadata": {},
   "outputs": [],
   "source": [
    "#Sending HTTP Request\n",
    "webpage = requests.get(URL, headers=HEADERS)"
   ]
  },
  {
   "cell_type": "code",
   "execution_count": 11,
   "id": "2d3d9243",
   "metadata": {},
   "outputs": [
    {
     "data": {
      "text/plain": [
       "<Response [200]>"
      ]
     },
     "execution_count": 11,
     "metadata": {},
     "output_type": "execute_result"
    }
   ],
   "source": [
    "webpage"
   ]
  },
  {
   "cell_type": "code",
   "execution_count": 13,
   "id": "0068d508",
   "metadata": {},
   "outputs": [
    {
     "data": {
      "text/plain": [
       "bytes"
      ]
     },
     "execution_count": 13,
     "metadata": {},
     "output_type": "execute_result"
    }
   ],
   "source": [
    "type(webpage.content)"
   ]
  },
  {
   "cell_type": "code",
   "execution_count": 15,
   "id": "3781aee0",
   "metadata": {},
   "outputs": [],
   "source": [
    "#Parsing to HTML format\n",
    "\n",
    "soup = BeautifulSoup(webpage.content, \"html.parser\")"
   ]
  },
  {
   "cell_type": "code",
   "execution_count": 29,
   "id": "2ab4bfe7",
   "metadata": {},
   "outputs": [],
   "source": [
    "#Fetch links as a lists of 'a' tag objects\n",
    "links = soup.find_all(\"a\", attrs={'class' : 'a-link-normal s-underline-text s-underline-link-text s-link-style a-text-normal'})"
   ]
  },
  {
   "cell_type": "code",
   "execution_count": 35,
   "id": "37fe5d4c",
   "metadata": {},
   "outputs": [],
   "source": [
    "link = links[0].get(\"href\")"
   ]
  },
  {
   "cell_type": "code",
   "execution_count": 39,
   "id": "2f6aebf9",
   "metadata": {},
   "outputs": [],
   "source": [
    "product_link = 'https://amazon.in' + link"
   ]
  },
  {
   "cell_type": "code",
   "execution_count": 40,
   "id": "3a4d8656",
   "metadata": {},
   "outputs": [
    {
     "data": {
      "text/plain": [
       "'https://amazon.in/sspa/click?ie=UTF8&spc=MToyNzEzODgxNTIxMzUxNjA4OjE2ODQ0MzQ0Nzg6c3BfYXRmOjIwMTQwMjI3NjI5MDk4OjowOjo&url=%2FAmbrane-Controller-Transparent-Technology-Illuminated%2Fdp%2FB0BY4PTCVB%2Fref%3Dsr_1_1_sspa%3Fcrid%3D1LN9XCR2WU6NN%26keywords%3Dgaming%2Bjoystick%2Bfor%2Bpc%26qid%3D1684434478%26sprefix%3Dgaming%2Bjoy%252Caps%252C306%26sr%3D8-1-spons%26sp_csd%3Dd2lkZ2V0TmFtZT1zcF9hdGY%26psc%3D1'"
      ]
     },
     "execution_count": 40,
     "metadata": {},
     "output_type": "execute_result"
    }
   ],
   "source": [
    "product_link"
   ]
  },
  {
   "cell_type": "code",
   "execution_count": 41,
   "id": "f3132cda",
   "metadata": {},
   "outputs": [],
   "source": [
    "product_webpage = requests.get(product_link, headers=HEADERS)"
   ]
  },
  {
   "cell_type": "code",
   "execution_count": 43,
   "id": "c235dd4d",
   "metadata": {},
   "outputs": [
    {
     "data": {
      "text/plain": [
       "<Response [200]>"
      ]
     },
     "execution_count": 43,
     "metadata": {},
     "output_type": "execute_result"
    }
   ],
   "source": [
    "product_webpage"
   ]
  },
  {
   "cell_type": "code",
   "execution_count": 44,
   "id": "9d9751cd",
   "metadata": {},
   "outputs": [],
   "source": [
    "product_soup = BeautifulSoup(product_webpage.content, \"html.parser\")"
   ]
  },
  {
   "cell_type": "code",
   "execution_count": 49,
   "id": "b02bc8ee",
   "metadata": {},
   "outputs": [
    {
     "data": {
      "text/plain": [
       "'Ambrane Wireless Gaming Controller with Transparent Design, 2.4GHz Wireless Technology, Integrated Dual Intensity Motor, Illuminated Pad for PC - Windows, PS3 Console & Android TV(OP-WLGC01, Black)'"
      ]
     },
     "execution_count": 49,
     "metadata": {},
     "output_type": "execute_result"
    }
   ],
   "source": [
    "product_soup.find(\"span\", attrs = {'id' : 'productTitle'}).text.strip()"
   ]
  },
  {
   "cell_type": "code",
   "execution_count": 54,
   "id": "aab45f13",
   "metadata": {},
   "outputs": [
    {
     "data": {
      "text/plain": [
       "'₹1,799.00'"
      ]
     },
     "execution_count": 54,
     "metadata": {},
     "output_type": "execute_result"
    }
   ],
   "source": [
    "product_soup.find(\"span\", attrs = {'class' : 'a-offscreen'}).text.strip()"
   ]
  },
  {
   "cell_type": "code",
   "execution_count": 63,
   "id": "c34c29a9",
   "metadata": {},
   "outputs": [
    {
     "data": {
      "text/plain": [
       "'3.6 out of 5 stars'"
      ]
     },
     "execution_count": 63,
     "metadata": {},
     "output_type": "execute_result"
    }
   ],
   "source": [
    "product_soup.find(\"span\", attrs = {'class' : 'a-icon-alt'}).text.strip()"
   ]
  },
  {
   "cell_type": "code",
   "execution_count": 70,
   "id": "c58418fb",
   "metadata": {},
   "outputs": [
    {
     "data": {
      "text/plain": [
       "'40 ratings'"
      ]
     },
     "execution_count": 70,
     "metadata": {},
     "output_type": "execute_result"
    }
   ],
   "source": [
    "product_soup.find(\"span\", attrs = {'id' : 'acrCustomerReviewText'}).text.strip()"
   ]
  },
  {
   "cell_type": "code",
   "execution_count": 77,
   "id": "35728db9",
   "metadata": {},
   "outputs": [
    {
     "data": {
      "text/plain": [
       "'54%'"
      ]
     },
     "execution_count": 77,
     "metadata": {},
     "output_type": "execute_result"
    }
   ],
   "source": [
    "product_soup.find(\"td\", attrs = {'class' : 'a-text-right a-nowrap'}).text.strip()"
   ]
  },
  {
   "cell_type": "code",
   "execution_count": 80,
   "id": "6b27f5bb",
   "metadata": {},
   "outputs": [
    {
     "data": {
      "text/plain": [
       "'In stock'"
      ]
     },
     "execution_count": 80,
     "metadata": {},
     "output_type": "execute_result"
    }
   ],
   "source": [
    "product_soup.find(\"div\", attrs={'id':'availability'}).text.strip()"
   ]
  },
  {
   "cell_type": "code",
   "execution_count": null,
   "id": "e162db91",
   "metadata": {},
   "outputs": [],
   "source": [
    "### Main program is below"
   ]
  },
  {
   "cell_type": "code",
   "execution_count": 2,
   "id": "e4deb579",
   "metadata": {},
   "outputs": [],
   "source": [
    "def get_title(soup):\n",
    "    try:\n",
    "        title = soup.find(\"span\", attrs = {'id' : 'productTitle'}).text.strip()\n",
    "    except AttributeError:\n",
    "        title = \"\"\n",
    "    return title\n",
    "\n",
    "def get_price(soup):\n",
    "    try:\n",
    "        price = soup.find(\"span\", attrs = {'class' : 'a-offscreen'}).text.strip()\n",
    "    except AttributeError:\n",
    "        price = \"\"\n",
    "    return price\n",
    "\n",
    "def get_rating(soup):\n",
    "    try:\n",
    "        rating = soup.find(\"span\", attrs = {'class' : 'a-icon-alt'}).text.strip()\n",
    "    except AttributeError:\n",
    "        try:\n",
    "            rating = soup.find(\"span\", attrs={'class':'a-icon-alt'}).string.strip()\n",
    "        except:\n",
    "            rating = \"\"\n",
    "\n",
    "    return rating\n",
    "\n",
    "def get_totalratings(soup):\n",
    "    try:\n",
    "        totalratings = soup.find(\"span\", attrs = {'id' : 'acrCustomerReviewText'}).text.strip()\n",
    "    except AttributeError:\n",
    "        totalratings = \"\"\n",
    "    return totalratings\n",
    "\n",
    "def get_5starratings(soup):\n",
    "    try:\n",
    "        starrating = soup.find(\"td\", attrs = {'class' : 'a-text-right a-nowrap'}).text.strip()\n",
    "    except AttributeError:\n",
    "        starrating = \"\"\n",
    "    return starrating   \n",
    "\n",
    "def get_availability(soup):\n",
    "    try:\n",
    "        availability = soup.find(\"div\", attrs={'id':'availability'}).text.strip()\n",
    "    except AttributeError:\n",
    "        availability = \"\"\n",
    "    return availability   "
   ]
  },
  {
   "cell_type": "code",
   "execution_count": 15,
   "id": "1d0d4158",
   "metadata": {},
   "outputs": [],
   "source": [
    "if __name__ == '__main__':\n",
    "    #Headers for request\n",
    "    HEADERS = ({'User-Agent' : 'Mozilla/5.0 (Windows NT 10.0; Win64; x64) AppleWebKit/537.36 (KHTML, like Gecko) Chrome/113.0.0.0 Safari/537.36 Edg/113.0.1774.42', 'Accept-Language' : 'en-US, en;q=0.5'})\n",
    "    \n",
    "    URL = 'https://www.amazon.in/s?k=gaming+mobile&crid=22S8YUJXTTDM0&sprefix=gaming+mobile%2Caps%2C448&ref=nb_sb_ss_ts-doa-p_2_13'\n",
    "    \n",
    "    #Sending HTTP Request\n",
    "    webpage = requests.get(URL, headers=HEADERS)\n",
    "\n",
    "    #Parsing to HTML format\n",
    "    soup = BeautifulSoup(webpage.content, \"html.parser\")\n",
    "    \n",
    "    #Fetch links as a lists of 'a' tag objects\n",
    "    links = soup.find_all(\"a\", attrs={'class' : 'a-link-normal s-underline-text s-underline-link-text s-link-style a-text-normal'})\n",
    "    \n",
    "    links_list = []\n",
    "    \n",
    "    #Appending each product link seperatly from links to the above list\n",
    "    for link in links:\n",
    "        links_list.append(link.get(\"href\"))\n",
    "    \n",
    "    #creating dictionary to store needed values from each product link\n",
    "    \n",
    "    d = {\"ProductName\":[], \"Price\":[], \"Rating\":[], \"TotalRatings\":[], \"5StarRatings\":[], \"Availability\":[]}\n",
    "    \n",
    "    #looping through each link from links_list and calling respective functions to get values for the dict\n",
    "    for link in links_list:\n",
    "        new_webpage = requests.get(\"https://www.amazon.in\" + link, headers=HEADERS)\n",
    "\n",
    "        new_soup = BeautifulSoup(new_webpage.content, \"html.parser\")\n",
    "\n",
    "        # Function calls to display all necessary product information\n",
    "        d['ProductName'].append(get_title(new_soup))\n",
    "        d['Price'].append(get_price(new_soup))\n",
    "        d['Rating'].append(get_rating(new_soup))\n",
    "        d['TotalRatings'].append(get_totalratings(new_soup))\n",
    "        d['5StarRatings'].append(get_5starratings(new_soup))\n",
    "        d['Availability'].append(get_availability(new_soup))    \n",
    "        \n",
    "    amazon_df = pd.DataFrame.from_dict(d)\n",
    "    amazon_df['ProductName'].replace('', np.nan, inplace=True)\n",
    "    amazon_df = amazon_df.dropna(subset=['ProductName'])\n",
    "    amazon_df.to_csv(\"amazon_data.csv\", header=True, index=False)"
   ]
  },
  {
   "cell_type": "code",
   "execution_count": 16,
   "id": "7a192245",
   "metadata": {},
   "outputs": [
    {
     "data": {
      "text/html": [
       "<div>\n",
       "<style scoped>\n",
       "    .dataframe tbody tr th:only-of-type {\n",
       "        vertical-align: middle;\n",
       "    }\n",
       "\n",
       "    .dataframe tbody tr th {\n",
       "        vertical-align: top;\n",
       "    }\n",
       "\n",
       "    .dataframe thead th {\n",
       "        text-align: right;\n",
       "    }\n",
       "</style>\n",
       "<table border=\"1\" class=\"dataframe\">\n",
       "  <thead>\n",
       "    <tr style=\"text-align: right;\">\n",
       "      <th></th>\n",
       "      <th>ProductName</th>\n",
       "      <th>Price</th>\n",
       "      <th>Rating</th>\n",
       "      <th>TotalRatings</th>\n",
       "      <th>5StarRatings</th>\n",
       "      <th>Availability</th>\n",
       "    </tr>\n",
       "  </thead>\n",
       "  <tbody>\n",
       "    <tr>\n",
       "      <th>2</th>\n",
       "      <td>Tecno POVA 4 (Cryolite Blue,8GB RAM,128GB Stor...</td>\n",
       "      <td>₹11,999.00</td>\n",
       "      <td>3.9 out of 5 stars</td>\n",
       "      <td>837 ratings</td>\n",
       "      <td>50%</td>\n",
       "      <td>In stock</td>\n",
       "    </tr>\n",
       "    <tr>\n",
       "      <th>3</th>\n",
       "      <td>iQOO Neo 7 5G (Interstellar Black, 12GB RAM, 2...</td>\n",
       "      <td>₹33,999.00</td>\n",
       "      <td>4.2 out of 5 stars</td>\n",
       "      <td>2,471 ratings</td>\n",
       "      <td></td>\n",
       "      <td>In stock</td>\n",
       "    </tr>\n",
       "    <tr>\n",
       "      <th>4</th>\n",
       "      <td>iQOO Neo 6 5G (Dark Nova, 8GB RAM, 128GB Stora...</td>\n",
       "      <td>₹24,999.00</td>\n",
       "      <td>4.4 out of 5 stars</td>\n",
       "      <td>24,113 ratings</td>\n",
       "      <td></td>\n",
       "      <td>In stock</td>\n",
       "    </tr>\n",
       "    <tr>\n",
       "      <th>5</th>\n",
       "      <td>Tecno Spark 9 (Infinity Black, 4GB RAM,64GB St...</td>\n",
       "      <td>₹7,799.00</td>\n",
       "      <td>3.9 out of 5 stars</td>\n",
       "      <td>5,014 ratings</td>\n",
       "      <td></td>\n",
       "      <td>In stock</td>\n",
       "    </tr>\n",
       "    <tr>\n",
       "      <th>6</th>\n",
       "      <td>iQOO 11 5G (Legend, 16GB RAM, 256 GB Storage) ...</td>\n",
       "      <td>₹59,999.00</td>\n",
       "      <td>4.3 out of 5 stars</td>\n",
       "      <td>558 ratings</td>\n",
       "      <td>64%</td>\n",
       "      <td>In stock</td>\n",
       "    </tr>\n",
       "    <tr>\n",
       "      <th>7</th>\n",
       "      <td>iQOO Neo 7 5G (Frost Blue, 8GB RAM, 128GB Stor...</td>\n",
       "      <td>₹29,999.00</td>\n",
       "      <td>4.2 out of 5 stars</td>\n",
       "      <td>2,471 ratings</td>\n",
       "      <td>59%</td>\n",
       "      <td>In stock</td>\n",
       "    </tr>\n",
       "    <tr>\n",
       "      <th>8</th>\n",
       "      <td>Redmi Note 10S (Deep Sea Blue, 6GB RAM, 64GB S...</td>\n",
       "      <td>₹14,999.00</td>\n",
       "      <td>4.2 out of 5 stars</td>\n",
       "      <td>223,606 ratings</td>\n",
       "      <td></td>\n",
       "      <td>In stock</td>\n",
       "    </tr>\n",
       "    <tr>\n",
       "      <th>9</th>\n",
       "      <td>Tecno POVA 4 (Magma Orange,8GB RAM,128GB Stora...</td>\n",
       "      <td>₹11,999.00</td>\n",
       "      <td>3.9 out of 5 stars</td>\n",
       "      <td>837 ratings</td>\n",
       "      <td></td>\n",
       "      <td>In stock</td>\n",
       "    </tr>\n",
       "    <tr>\n",
       "      <th>12</th>\n",
       "      <td>realme Narzo 50 Pro 5G (Hyper Black 6GB RAM+12...</td>\n",
       "      <td>₹21,999.00</td>\n",
       "      <td>4.1 out of 5 stars</td>\n",
       "      <td>7,552 ratings</td>\n",
       "      <td></td>\n",
       "      <td>In stock</td>\n",
       "    </tr>\n",
       "    <tr>\n",
       "      <th>13</th>\n",
       "      <td>Tecno Phantom X2 Pro 5G Stardust Grey (12GB RA...</td>\n",
       "      <td>₹49,999.00</td>\n",
       "      <td>4.1 out of 5 stars</td>\n",
       "      <td>85 ratings</td>\n",
       "      <td>63%</td>\n",
       "      <td>In stock</td>\n",
       "    </tr>\n",
       "    <tr>\n",
       "      <th>14</th>\n",
       "      <td>Tecno Spark 8 Pro (Interstellar Black, 4GB RAM...</td>\n",
       "      <td>₹8,499.00</td>\n",
       "      <td>4.1 out of 5 stars</td>\n",
       "      <td>5,318 ratings</td>\n",
       "      <td></td>\n",
       "      <td>In stock</td>\n",
       "    </tr>\n",
       "    <tr>\n",
       "      <th>15</th>\n",
       "      <td>iQOO 9 SE 5G (Space Fusion, 8GB RAM, 128GB Sto...</td>\n",
       "      <td>₹30,990.00</td>\n",
       "      <td>4.3 out of 5 stars</td>\n",
       "      <td>9,743 ratings</td>\n",
       "      <td></td>\n",
       "      <td>In stock</td>\n",
       "    </tr>\n",
       "    <tr>\n",
       "      <th>16</th>\n",
       "      <td>Redmi Note 10S (Cosmic Purple, 8GB RAM,128 GB ...</td>\n",
       "      <td>₹18,499.00</td>\n",
       "      <td>4.2 out of 5 stars</td>\n",
       "      <td>223,606 ratings</td>\n",
       "      <td>54%</td>\n",
       "      <td>In stock</td>\n",
       "    </tr>\n",
       "    <tr>\n",
       "      <th>17</th>\n",
       "      <td>Redmi 12C (Royal Blue, 4GB RAM, 64GB Storage) ...</td>\n",
       "      <td>₹8,799.00</td>\n",
       "      <td>3.9 out of 5 stars</td>\n",
       "      <td>738 ratings</td>\n",
       "      <td>53%</td>\n",
       "      <td>In stock</td>\n",
       "    </tr>\n",
       "    <tr>\n",
       "      <th>18</th>\n",
       "      <td>Tecno POVA 4 (Uranolith Grey,8GB RAM,128GB Sto...</td>\n",
       "      <td>₹11,999.00</td>\n",
       "      <td>3.9 out of 5 stars</td>\n",
       "      <td>837 ratings</td>\n",
       "      <td>50%</td>\n",
       "      <td>In stock</td>\n",
       "    </tr>\n",
       "    <tr>\n",
       "      <th>19</th>\n",
       "      <td>iQOO Neo 7 5G (Frost Blue, 12GB RAM, 256GB Sto...</td>\n",
       "      <td>₹33,999.00</td>\n",
       "      <td>4.2 out of 5 stars</td>\n",
       "      <td>2,471 ratings</td>\n",
       "      <td></td>\n",
       "      <td>In stock</td>\n",
       "    </tr>\n",
       "  </tbody>\n",
       "</table>\n",
       "</div>"
      ],
      "text/plain": [
       "                                          ProductName       Price  \\\n",
       "2   Tecno POVA 4 (Cryolite Blue,8GB RAM,128GB Stor...  ₹11,999.00   \n",
       "3   iQOO Neo 7 5G (Interstellar Black, 12GB RAM, 2...  ₹33,999.00   \n",
       "4   iQOO Neo 6 5G (Dark Nova, 8GB RAM, 128GB Stora...  ₹24,999.00   \n",
       "5   Tecno Spark 9 (Infinity Black, 4GB RAM,64GB St...   ₹7,799.00   \n",
       "6   iQOO 11 5G (Legend, 16GB RAM, 256 GB Storage) ...  ₹59,999.00   \n",
       "7   iQOO Neo 7 5G (Frost Blue, 8GB RAM, 128GB Stor...  ₹29,999.00   \n",
       "8   Redmi Note 10S (Deep Sea Blue, 6GB RAM, 64GB S...  ₹14,999.00   \n",
       "9   Tecno POVA 4 (Magma Orange,8GB RAM,128GB Stora...  ₹11,999.00   \n",
       "12  realme Narzo 50 Pro 5G (Hyper Black 6GB RAM+12...  ₹21,999.00   \n",
       "13  Tecno Phantom X2 Pro 5G Stardust Grey (12GB RA...  ₹49,999.00   \n",
       "14  Tecno Spark 8 Pro (Interstellar Black, 4GB RAM...   ₹8,499.00   \n",
       "15  iQOO 9 SE 5G (Space Fusion, 8GB RAM, 128GB Sto...  ₹30,990.00   \n",
       "16  Redmi Note 10S (Cosmic Purple, 8GB RAM,128 GB ...  ₹18,499.00   \n",
       "17  Redmi 12C (Royal Blue, 4GB RAM, 64GB Storage) ...   ₹8,799.00   \n",
       "18  Tecno POVA 4 (Uranolith Grey,8GB RAM,128GB Sto...  ₹11,999.00   \n",
       "19  iQOO Neo 7 5G (Frost Blue, 12GB RAM, 256GB Sto...  ₹33,999.00   \n",
       "\n",
       "                Rating     TotalRatings 5StarRatings Availability  \n",
       "2   3.9 out of 5 stars      837 ratings          50%     In stock  \n",
       "3   4.2 out of 5 stars    2,471 ratings                  In stock  \n",
       "4   4.4 out of 5 stars   24,113 ratings                  In stock  \n",
       "5   3.9 out of 5 stars    5,014 ratings                  In stock  \n",
       "6   4.3 out of 5 stars      558 ratings          64%     In stock  \n",
       "7   4.2 out of 5 stars    2,471 ratings          59%     In stock  \n",
       "8   4.2 out of 5 stars  223,606 ratings                  In stock  \n",
       "9   3.9 out of 5 stars      837 ratings                  In stock  \n",
       "12  4.1 out of 5 stars    7,552 ratings                  In stock  \n",
       "13  4.1 out of 5 stars       85 ratings          63%     In stock  \n",
       "14  4.1 out of 5 stars    5,318 ratings                  In stock  \n",
       "15  4.3 out of 5 stars    9,743 ratings                  In stock  \n",
       "16  4.2 out of 5 stars  223,606 ratings          54%     In stock  \n",
       "17  3.9 out of 5 stars      738 ratings          53%     In stock  \n",
       "18  3.9 out of 5 stars      837 ratings          50%     In stock  \n",
       "19  4.2 out of 5 stars    2,471 ratings                  In stock  "
      ]
     },
     "execution_count": 16,
     "metadata": {},
     "output_type": "execute_result"
    }
   ],
   "source": [
    "#viewing final dataframe with all the product list\n",
    "amazon_df"
   ]
  }
 ],
 "metadata": {
  "kernelspec": {
   "display_name": "Python 3 (ipykernel)",
   "language": "python",
   "name": "python3"
  },
  "language_info": {
   "codemirror_mode": {
    "name": "ipython",
    "version": 3
   },
   "file_extension": ".py",
   "mimetype": "text/x-python",
   "name": "python",
   "nbconvert_exporter": "python",
   "pygments_lexer": "ipython3",
   "version": "3.9.13"
  }
 },
 "nbformat": 4,
 "nbformat_minor": 5
}
